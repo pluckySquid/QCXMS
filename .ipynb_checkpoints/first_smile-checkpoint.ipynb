{
 "cells": [
  {
   "cell_type": "code",
   "execution_count": 3,
   "metadata": {},
   "outputs": [],
   "source": [
    "#source activate my-rdkit-env\n",
    "import rdkit\n",
    "from rdkit import Chem\n",
    "from rdkit.Chem import Draw\n",
    "#from rdkit.Chem.Draw import IPythonConsole\n",
    "from rdkit.Chem import Descriptors\n",
    "from rdkit.Chem import AllChem\n",
    "from rdkit import DataStructs\n",
    "import numpy as np\n",
    "\n",
    "\n"
   ]
  },
  {
   "cell_type": "code",
   "execution_count": 2,
   "metadata": {},
   "outputs": [
    {
     "name": "stdout",
     "output_type": "stream",
     "text": [
      "\n",
      "     RDKit          2D\n",
      "\n",
      "  4  3  0  0  0  0  0  0  0  0999 V2000\n",
      "    0.0000    0.0000    0.0000 C   0  0  0  0  0  0  0  0  0  0  0  0\n",
      "    1.2990    0.7500    0.0000 C   0  0  0  0  0  0  0  0  0  0  0  0\n",
      "    2.5981   -0.0000    0.0000 Cl  0  0  0  0  0  0  0  0  0  0  0  0\n",
      "   -1.2990    0.7500    0.0000 O   0  0  0  0  0  0  0  0  0  0  0  0\n",
      "  1  2  1  0\n",
      "  2  3  1  0\n",
      "  1  4  1  0\n",
      "M  END\n",
      "\n",
      "\n",
      "     RDKit          3D\n",
      "\n",
      "  9  8  0  0  0  0  0  0  0  0999 V2000\n",
      "    0.4377    0.2164    0.4711 C   0  0  0  0  0  0  0  0  0  0  0  0\n",
      "   -0.7947   -0.4693   -0.0731 C   0  0  0  0  0  0  0  0  0  0  0  0\n",
      "   -1.7796    0.8317   -0.8292 Cl  0  0  0  0  0  0  0  0  0  0  0  0\n",
      "    1.0767    0.8121   -0.6371 O   0  0  0  0  0  0  0  0  0  0  0  0\n",
      "    0.1330    1.0411    1.1251 H   0  0  0  0  0  0  0  0  0  0  0  0\n",
      "    1.0956   -0.4434    1.0318 H   0  0  0  0  0  0  0  0  0  0  0  0\n",
      "   -0.5430   -1.1917   -0.8697 H   0  0  0  0  0  0  0  0  0  0  0  0\n",
      "   -1.3982   -0.9555    0.7064 H   0  0  0  0  0  0  0  0  0  0  0  0\n",
      "    1.7726    0.1586   -0.9252 H   0  0  0  0  0  0  0  0  0  0  0  0\n",
      "  1  2  1  0\n",
      "  2  3  1  0\n",
      "  1  4  1  0\n",
      "  1  5  1  0\n",
      "  1  6  1  0\n",
      "  2  7  1  0\n",
      "  2  8  1  0\n",
      "  4  9  1  0\n",
      "M  END\n",
      "\n",
      "m is:  <rdkit.Chem.rdchem.Mol object at 0x7fc57c91d150>\n"
     ]
    },
    {
     "data": {
      "text/plain": [
       "80.514"
      ]
     },
     "execution_count": 2,
     "metadata": {},
     "output_type": "execute_result"
    }
   ],
   "source": [
    "m = Chem.MolFromSmiles('C(CCl)O')\n",
    "#m = Chem.MolFromMolFile('data/input.mol')\n",
    "#stringWithMolData=open('data/input.mol','r').read()\n",
    "#m = Chem.MolFromMolBlock(stringWithMolData)\n",
    "m\n",
    "m3 = Chem.AddHs(m)\n",
    "AllChem.EmbedMolecule(m3,randomSeed=0xf00d)\n",
    "print(Chem.MolToMolBlock(m)) \n",
    "print(Chem.MolToMolBlock(m3))   \n",
    "\n",
    "print(\"m is: \", m)\n",
    "mw = Descriptors.MolWt(m)\n",
    "mw"
   ]
  },
  {
   "cell_type": "markdown",
   "metadata": {},
   "source": []
  },
  {
   "cell_type": "markdown",
   "metadata": {},
   "source": []
  }
 ],
 "metadata": {
  "kernelspec": {
   "display_name": "Python 3 (ipykernel)",
   "language": "python",
   "name": "python3"
  },
  "language_info": {
   "codemirror_mode": {
    "name": "ipython",
    "version": 3
   },
   "file_extension": ".py",
   "mimetype": "text/x-python",
   "name": "python",
   "nbconvert_exporter": "python",
   "pygments_lexer": "ipython3",
   "version": "3.8.3"
  },
  "vscode": {
   "interpreter": {
    "hash": "e7370f93d1d0cde622a1f8e1c04877d8463912d04d973331ad4851f04de6915a"
   }
  }
 },
 "nbformat": 4,
 "nbformat_minor": 4
}
